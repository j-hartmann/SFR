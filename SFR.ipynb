{
  "nbformat": 4,
  "nbformat_minor": 0,
  "metadata": {
    "colab": {
      "provenance": [],
      "authorship_tag": "ABX9TyOyLkChuZ3AxqB3NtoP5ePY",
      "include_colab_link": true
    },
    "kernelspec": {
      "name": "python3",
      "display_name": "Python 3"
    },
    "language_info": {
      "name": "python"
    }
  },
  "cells": [
    {
      "cell_type": "markdown",
      "metadata": {
        "id": "view-in-github",
        "colab_type": "text"
      },
      "source": [
        "<a href=\"https://colab.research.google.com/github/j-hartmann/SFR/blob/main/SFR.ipynb\" target=\"_parent\"><img src=\"https://colab.research.google.com/assets/colab-badge.svg\" alt=\"Open In Colab\"/></a>"
      ]
    },
    {
      "cell_type": "markdown",
      "source": [
        "### **SFR**"
      ],
      "metadata": {
        "id": "9rikK3sDyFiX"
      }
    },
    {
      "cell_type": "code",
      "source": [
        "# import libraries\n",
        "from transformers import pipeline"
      ],
      "metadata": {
        "id": "NGz4i-38z07Q"
      },
      "execution_count": 1,
      "outputs": []
    },
    {
      "cell_type": "markdown",
      "source": [
        "*Run SiEBERT, a language model specialized on binary sentiment analysis.*"
      ],
      "metadata": {
        "id": "ng_-2RM5ykuC"
      }
    },
    {
      "cell_type": "code",
      "execution_count": null,
      "metadata": {
        "id": "0Qm_p64iyE8Q"
      },
      "outputs": [],
      "source": [
        "# import model\n",
        "get_sentiment = pipeline(\"sentiment-analysis\", model=\"siebert/sentiment-roberta-large-english\")"
      ]
    },
    {
      "cell_type": "code",
      "source": [
        "get_sentiment(\"My flight was cancelled. Where can I request a refund?\")"
      ],
      "metadata": {
        "colab": {
          "base_uri": "https://localhost:8080/"
        },
        "id": "3oYh8rRYyjUf",
        "outputId": "c3e0f393-b3b7-48b2-8098-ac18c15e133a"
      },
      "execution_count": 3,
      "outputs": [
        {
          "output_type": "execute_result",
          "data": {
            "text/plain": [
              "[{'label': 'NEGATIVE', 'score': 0.9993242025375366}]"
            ]
          },
          "metadata": {},
          "execution_count": 3
        }
      ]
    },
    {
      "cell_type": "markdown",
      "source": [
        "*Run a fine-tuned language model for emotion extraction.*"
      ],
      "metadata": {
        "id": "6liv2s9FzWL0"
      }
    },
    {
      "cell_type": "code",
      "source": [
        "# import model\n",
        "get_emotions = pipeline(\"text-classification\", model=\"j-hartmann/emotion-english-distilroberta-base\", return_all_scores=True)"
      ],
      "metadata": {
        "id": "xPcqe92PzJTo"
      },
      "execution_count": null,
      "outputs": []
    },
    {
      "cell_type": "code",
      "source": [
        "get_emotions(\"This was by far the best service experience I've ever made!\")"
      ],
      "metadata": {
        "colab": {
          "base_uri": "https://localhost:8080/"
        },
        "id": "dPJbFPw9zRzP",
        "outputId": "ee263e43-e0c4-4ef7-f758-1f81ef0b912f"
      },
      "execution_count": 5,
      "outputs": [
        {
          "output_type": "execute_result",
          "data": {
            "text/plain": [
              "[[{'label': 'anger', 'score': 0.005697187967598438},\n",
              "  {'label': 'disgust', 'score': 0.005230925511568785},\n",
              "  {'label': 'fear', 'score': 0.0024537532590329647},\n",
              "  {'label': 'joy', 'score': 0.7304487228393555},\n",
              "  {'label': 'neutral', 'score': 0.09406807273626328},\n",
              "  {'label': 'sadness', 'score': 0.002163215074688196},\n",
              "  {'label': 'surprise', 'score': 0.15993811190128326}]]"
            ]
          },
          "metadata": {},
          "execution_count": 5
        }
      ]
    }
  ]
}