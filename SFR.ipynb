{
  "nbformat": 4,
  "nbformat_minor": 0,
  "metadata": {
    "colab": {
      "provenance": [],
      "gpuType": "T4",
      "authorship_tag": "ABX9TyNPDrkM1JZApHuvPFN90hmp",
      "include_colab_link": true
    },
    "kernelspec": {
      "name": "python3",
      "display_name": "Python 3"
    },
    "language_info": {
      "name": "python"
    },
    "accelerator": "GPU"
  },
  "cells": [
    {
      "cell_type": "markdown",
      "metadata": {
        "id": "view-in-github",
        "colab_type": "text"
      },
      "source": [
        "<a href=\"https://colab.research.google.com/github/j-hartmann/SFR/blob/main/SFR.ipynb\" target=\"_parent\"><img src=\"https://colab.research.google.com/assets/colab-badge.svg\" alt=\"Open In Colab\"/></a>"
      ]
    },
    {
      "cell_type": "markdown",
      "source": [
        "### Code Appendix\n",
        "\n",
        "## **Using Text Analysis in Service Failure Recovery: Theory, Workflows, and Models**\n",
        "\n",
        "#### Villarroel Ordenes, Packard, Proserpio, and Hartmann (2024)"
      ],
      "metadata": {
        "id": "9rikK3sDyFiX"
      }
    },
    {
      "cell_type": "markdown",
      "source": [
        "**Dictionaries**"
      ],
      "metadata": {
        "id": "BStVS62aCwZY"
      }
    },
    {
      "cell_type": "code",
      "source": [
        "# install libraries\n",
        "!pip install vaderSentiment"
      ],
      "metadata": {
        "id": "rQyrKdK1ElRB"
      },
      "execution_count": null,
      "outputs": []
    },
    {
      "cell_type": "code",
      "source": [
        "# load libraries\n",
        "from vaderSentiment.vaderSentiment import SentimentIntensityAnalyzer"
      ],
      "metadata": {
        "id": "z50kH7-XFSs8"
      },
      "execution_count": null,
      "outputs": []
    },
    {
      "cell_type": "code",
      "source": [
        "# example sentences\n",
        "sentences = [\"I'm disappointed and frustrated how ABC treat their customers...\", \"The service experience was not bad\", \"AMAZING 😍\"]\n",
        "\n",
        "# extract sentiment\n",
        "analyzer = SentimentIntensityAnalyzer()\n",
        "for sentence in sentences:\n",
        "    vs = analyzer.polarity_scores(sentence)\n",
        "    print(\"{:-<65} {}\".format(sentence, str(vs)))"
      ],
      "metadata": {
        "colab": {
          "base_uri": "https://localhost:8080/"
        },
        "id": "VfSM_38oCzEy",
        "outputId": "9321e2c9-9477-4858-e71d-ecc7e0bc48c7"
      },
      "execution_count": null,
      "outputs": [
        {
          "output_type": "stream",
          "name": "stdout",
          "text": [
            "I'm disappointed and frustrated how ABC treat their customers...- {'neg': 0.428, 'neu': 0.395, 'pos': 0.178, 'compound': -0.5859}\n",
            "The service experience was not bad------------------------------- {'neg': 0.0, 'neu': 0.637, 'pos': 0.363, 'compound': 0.431}\n",
            "AMAZING 😍-------------------------------------------------------- {'neg': 0.0, 'neu': 0.285, 'pos': 0.715, 'compound': 0.8192}\n"
          ]
        }
      ]
    },
    {
      "cell_type": "markdown",
      "source": [
        "**Topic Models**"
      ],
      "metadata": {
        "id": "uYGJ1-D6CzhC"
      }
    },
    {
      "cell_type": "code",
      "source": [
        "# install libraries\n",
        "!pip install lda"
      ],
      "metadata": {
        "id": "P8OLgLKyEBiA"
      },
      "execution_count": null,
      "outputs": []
    },
    {
      "cell_type": "code",
      "source": [
        "# load libraries\n",
        "import lda\n",
        "import lda.datasets\n",
        "import numpy as np"
      ],
      "metadata": {
        "id": "bYGegTuwC01N"
      },
      "execution_count": null,
      "outputs": []
    },
    {
      "cell_type": "code",
      "source": [
        "# load dataset\n",
        "X = lda.datasets.load_reuters()\n",
        "vocab = lda.datasets.load_reuters_vocab()\n",
        "titles = lda.datasets.load_reuters_titles()"
      ],
      "metadata": {
        "id": "8lrHJROGELpL"
      },
      "execution_count": null,
      "outputs": []
    },
    {
      "cell_type": "code",
      "source": [
        "# run topic model\n",
        "model = lda.LDA(n_topics=10, n_iter=1500, random_state=42)\n",
        "model.fit(X)\n",
        "topic_word = model.topic_word_\n",
        "n_top_words = 8\n",
        "for i, topic_dist in enumerate(topic_word):\n",
        "  topic_words = np.array(vocab)[np.argsort(topic_dist)][:-(n_top_words+1):-1]\n",
        "  print('Topic {}: {}'.format(i, ' '.join(topic_words)))"
      ],
      "metadata": {
        "colab": {
          "base_uri": "https://localhost:8080/"
        },
        "id": "M_J1efiCFrl3",
        "outputId": "efd89434-4d30-4aa9-8b7b-d0374154f7d0"
      },
      "execution_count": null,
      "outputs": [
        {
          "output_type": "stream",
          "name": "stdout",
          "text": [
            "Topic 0: harriman u.s clinton churchill president paris british ambassador\n",
            "Topic 1: yeltsin president political russian russia party kremlin government\n",
            "Topic 2: elvis music miami fans versace cunanan police city\n",
            "Topic 3: pope vatican surgery paul catholic rome roman pontiff\n",
            "Topic 4: church years people told first last year time\n",
            "Topic 5: mother teresa order heart charity nuns hospital calcutta\n",
            "Topic 6: city germany german war century christian exhibition million\n",
            "Topic 7: bernardin east peace south michael romania prize government\n",
            "Topic 8: film catholic simpson wright life festival women bishop\n",
            "Topic 9: charles prince king royal diana queen bowles parker\n"
          ]
        }
      ]
    },
    {
      "cell_type": "markdown",
      "source": [
        "**Supervised Machine Learning and Deep Learning**"
      ],
      "metadata": {
        "id": "CDAZaeIFC-lV"
      }
    },
    {
      "cell_type": "code",
      "source": [
        "# install libraries\n",
        "!pip install ucimlrepo"
      ],
      "metadata": {
        "id": "kebIkkuZEFLw"
      },
      "execution_count": null,
      "outputs": []
    },
    {
      "cell_type": "code",
      "source": [
        "# load libraries\n",
        "import pandas as pd\n",
        "import string\n",
        "from ucimlrepo import fetch_ucirepo\n",
        "from sklearn.model_selection import train_test_split\n",
        "from sklearn.feature_extraction.text import HashingVectorizer\n",
        "from sklearn.ensemble import RandomForestClassifier\n",
        "from sklearn.metrics import f1_score\n",
        "from sklearn.metrics import confusion_matrix, classification_report\n",
        "from matplotlib import pyplot as plt\n",
        "import seaborn as sn"
      ],
      "metadata": {
        "id": "wFk_miM1DA4m"
      },
      "execution_count": null,
      "outputs": []
    },
    {
      "cell_type": "code",
      "source": [
        "# import data\n",
        "drug_reviews_drugs_com = fetch_ucirepo(id=462)\n",
        "data = drug_reviews_drugs_com.data.features\n",
        "\n",
        "# clean data\n",
        "data['review_clean'] = data['review'].str.replace('[{}]'.format(string.punctuation), '')\n",
        "data = data.fillna({'review':''})\n",
        "\n",
        "# create a sentiment label column\n",
        "data['sentiment'] = data['rating'].apply(lambda rating : +1 if rating > 5 else -1)\n",
        "\n",
        "# sample and balance data\n",
        "data = data.groupby('sentiment').sample(n = 5000, random_state = 42)\n",
        "\n",
        "# create a train and test split\n",
        "train_data, test_data = train_test_split(data, test_size = 0.20)\n",
        "print('Size of train_data is:', train_data.shape)\n",
        "print('Size of test_data is:', test_data.shape)"
      ],
      "metadata": {
        "colab": {
          "base_uri": "https://localhost:8080/"
        },
        "id": "BTkghf5HF4BQ",
        "outputId": "71ba48ac-0f0d-4ec1-851c-b7af3f69f5e8"
      },
      "execution_count": null,
      "outputs": [
        {
          "output_type": "stream",
          "name": "stdout",
          "text": [
            "Size of train_data is: (8000, 8)\n",
            "Size of test_data is: (2000, 8)\n"
          ]
        }
      ]
    },
    {
      "cell_type": "code",
      "source": [
        "# extract features (vectorize)\n",
        "vectorizer = HashingVectorizer()\n",
        "train_matrix = vectorizer.transform(train_data['review_clean'].values.astype('U'))\n",
        "test_matrix = vectorizer.transform(test_data['review_clean'].values.astype('U'))\n",
        "\n",
        "# train random forest\n",
        "random_forest = RandomForestClassifier()\n",
        "model = random_forest.fit(train_matrix, train_data['sentiment'])\n",
        "\n",
        "# predict and measure performance on test data\n",
        "y_pred = model.predict(test_matrix)\n",
        "f1_score(y_pred, test_data['sentiment'])"
      ],
      "metadata": {
        "colab": {
          "base_uri": "https://localhost:8080/"
        },
        "id": "PPIcttqbGWKD",
        "outputId": "4eeafc34-39ef-430b-b0c7-2eb5146fa4ed"
      },
      "execution_count": null,
      "outputs": [
        {
          "output_type": "execute_result",
          "data": {
            "text/plain": [
              "0.740253164556962"
            ]
          },
          "metadata": {},
          "execution_count": 4
        }
      ]
    },
    {
      "cell_type": "code",
      "source": [
        "# plot confusion matrix\n",
        "cm = confusion_matrix(test_data.sentiment,y_pred)\n",
        "sn.heatmap(cm, annot=True, fmt='d')\n",
        "plt.xlabel('Predicted')\n",
        "plt.ylabel('Truth')"
      ],
      "metadata": {
        "id": "bVFYsxDQLeKq",
        "outputId": "dff47810-adaa-4ada-bacd-40fe4f943841",
        "colab": {
          "base_uri": "https://localhost:8080/",
          "height": 466
        }
      },
      "execution_count": null,
      "outputs": [
        {
          "output_type": "execute_result",
          "data": {
            "text/plain": [
              "Text(50.722222222222214, 0.5, 'Truth')"
            ]
          },
          "metadata": {},
          "execution_count": 5
        },
        {
          "output_type": "display_data",
          "data": {
            "text/plain": [
              "<Figure size 640x480 with 2 Axes>"
            ],
            "image/png": "[encoded data removed]"
          },
          "metadata": {}
        }
      ]
    },
    {
      "cell_type": "markdown",
      "source": [
        "**Embeddings**"
      ],
      "metadata": {
        "id": "IOe3szn2DCge"
      }
    },
    {
      "cell_type": "code",
      "source": [
        "# install libraries\n",
        "!pip install -U sentence-transformers"
      ],
      "metadata": {
        "id": "fEFTiTh-Jsz-"
      },
      "execution_count": null,
      "outputs": []
    },
    {
      "cell_type": "code",
      "source": [
        "# load libraries\n",
        "from sentence_transformers import SentenceTransformer, util"
      ],
      "metadata": {
        "id": "4-_UFWdkJuhS"
      },
      "execution_count": null,
      "outputs": []
    },
    {
      "cell_type": "code",
      "source": [
        "# import model\n",
        "model = SentenceTransformer('all-MiniLM-L6-v2')\n",
        "\n",
        "sentence1 = ['The service is awesome!']\n",
        "sentence2 = ['What a nice customer service.']\n",
        "\n",
        "embedding1 = model.encode(sentence1, convert_to_tensor=True)\n",
        "embedding2 = model.encode(sentence2, convert_to_tensor=True)"
      ],
      "metadata": {
        "id": "7Xp8d8z9DDNs"
      },
      "execution_count": null,
      "outputs": []
    },
    {
      "cell_type": "code",
      "source": [
        "# check similarities between sentences\n",
        "print('The cosine similarity is:', util.cos_sim(embedding1, embedding2).item())"
      ],
      "metadata": {
        "id": "IT9DCqYcKHtn",
        "outputId": "3de2f051-7b78-4deb-9175-27f8cb4256be",
        "colab": {
          "base_uri": "https://localhost:8080/"
        }
      },
      "execution_count": null,
      "outputs": [
        {
          "output_type": "stream",
          "name": "stdout",
          "text": [
            "The cosine similarity is: 0.5451609492301941\n"
          ]
        }
      ]
    },
    {
      "cell_type": "markdown",
      "source": [
        "**Language Models and Generative AI**"
      ],
      "metadata": {
        "id": "vigQnoOnDDtU"
      }
    },
    {
      "cell_type": "code",
      "source": [
        "# import libraries\n",
        "from transformers import pipeline\n",
        "import pandas as pd\n",
        "from google.colab import files"
      ],
      "metadata": {
        "id": "NGz4i-38z07Q"
      },
      "execution_count": 41,
      "outputs": []
    },
    {
      "cell_type": "markdown",
      "source": [
        "*Run SiEBERT, a language model specialized on binary sentiment analysis.*"
      ],
      "metadata": {
        "id": "ng_-2RM5ykuC"
      }
    },
    {
      "cell_type": "code",
      "execution_count": 33,
      "metadata": {
        "id": "0Qm_p64iyE8Q"
      },
      "outputs": [],
      "source": [
        "# import model\n",
        "get_sentiment = pipeline(\"sentiment-analysis\", model=\"siebert/sentiment-roberta-large-english\", device = 0)"
      ]
    },
    {
      "cell_type": "code",
      "source": [
        "# predict sentiment of a single sentence\n",
        "get_sentiment(\"My flight was cancelled. Where can I request a refund?\")"
      ],
      "metadata": {
        "colab": {
          "base_uri": "https://localhost:8080/"
        },
        "id": "3oYh8rRYyjUf",
        "outputId": "3d05fee4-5641-4585-cbf9-16f9c627408c"
      },
      "execution_count": 34,
      "outputs": [
        {
          "output_type": "execute_result",
          "data": {
            "text/plain": [
              "[{'label': 'NEGATIVE', 'score': 0.9993242025375366}]"
            ]
          },
          "metadata": {},
          "execution_count": 34
        }
      ]
    },
    {
      "cell_type": "code",
      "source": [
        "# predict sentiment of multiple documents\n",
        "\n",
        "# load data from GitHub\n",
        "!wget https://raw.githubusercontent.com/shivang16/movieReview/master/movie_review.csv\n",
        "d = pd.read_csv(\"/content/movie_review.csv\")\n",
        "\n",
        "# sample and preprocess data\n",
        "d = d.iloc[0:100]  # sample to first 100 reviews\n",
        "text_column = 'text'  # select text column\n",
        "texts = d[text_column].astype('str').tolist()"
      ],
      "metadata": {
        "colab": {
          "base_uri": "https://localhost:8080/"
        },
        "id": "4dNJjRk2kJEN",
        "outputId": "daa89681-6ecd-4564-8924-0aea73ee281e"
      },
      "execution_count": 35,
      "outputs": [
        {
          "output_type": "stream",
          "name": "stdout",
          "text": [
            "--2024-05-14 19:42:27--  https://raw.githubusercontent.com/shivang16/movieReview/master/movie_review.csv\n",
            "Resolving raw.githubusercontent.com (raw.githubusercontent.com)... 185.199.108.133, 185.199.109.133, 185.199.110.133, ...\n",
            "Connecting to raw.githubusercontent.com (raw.githubusercontent.com)|185.199.108.133|:443... connected.\n",
            "HTTP request sent, awaiting response... 200 OK\n",
            "Length: 9150992 (8.7M) [text/plain]\n",
            "Saving to: ‘movie_review.csv.3’\n",
            "\n",
            "\rmovie_review.csv.3    0%[                    ]       0  --.-KB/s               \rmovie_review.csv.3  100%[===================>]   8.73M  --.-KB/s    in 0.07s   \n",
            "\n",
            "2024-05-14 19:42:28 (131 MB/s) - ‘movie_review.csv.3’ saved [9150992/9150992]\n",
            "\n"
          ]
        }
      ]
    },
    {
      "cell_type": "code",
      "source": [
        "# print predictions\n",
        "p = pd.DataFrame(get_sentiment(texts))['label']\n",
        "p.value_counts()  # check sentiment distribution"
      ],
      "metadata": {
        "colab": {
          "base_uri": "https://localhost:8080/"
        },
        "id": "gVW8863ElWyG",
        "outputId": "d49405a4-faf7-421c-bfaf-a94d9b61555a"
      },
      "execution_count": 37,
      "outputs": [
        {
          "output_type": "execute_result",
          "data": {
            "text/plain": [
              "label\n",
              "POSITIVE    61\n",
              "NEGATIVE    39\n",
              "Name: count, dtype: int64"
            ]
          },
          "metadata": {},
          "execution_count": 37
        }
      ]
    },
    {
      "cell_type": "code",
      "source": [
        "# add predictions to original dataframe\n",
        "d['sentiment'] = p\n",
        "d[[text_column, 'sentiment']].head()"
      ],
      "metadata": {
        "colab": {
          "base_uri": "https://localhost:8080/",
          "height": 206
        },
        "id": "KUa0R2Gylyts",
        "outputId": "7060f9e3-54c9-4dfb-dc0a-2c2a18e49a7a"
      },
      "execution_count": 38,
      "outputs": [
        {
          "output_type": "execute_result",
          "data": {
            "text/plain": [
              "                                                text sentiment\n",
              "0  films adapted from comic books have had plenty...  NEGATIVE\n",
              "1  for starters , it was created by alan moore ( ...  POSITIVE\n",
              "2  to say moore and campbell thoroughly researche...  POSITIVE\n",
              "3  the book ( or \" graphic novel , \" if you will ...  NEGATIVE\n",
              "4  in other words , don't dismiss this film becau...  POSITIVE"
            ],
            "text/html": [
              "\n",
              "  <div id=\"df-7d789e18-07dc-4c52-827f-411bf255b2cb\" class=\"colab-df-container\">\n",
              "    <div>\n",
              "<style scoped>\n",
              "    .dataframe tbody tr th:only-of-type {\n",
              "        vertical-align: middle;\n",
              "    }\n",
              "\n",
              "    .dataframe tbody tr th {\n",
              "        vertical-align: top;\n",
              "    }\n",
              "\n",
              "    .dataframe thead th {\n",
              "        text-align: right;\n",
              "    }\n",
              "</style>\n",
              "<table border=\"1\" class=\"dataframe\">\n",
              "  <thead>\n",
              "    <tr style=\"text-align: right;\">\n",
              "      <th></th>\n",
              "      <th>text</th>\n",
              "      <th>sentiment</th>\n",
              "    </tr>\n",
              "  </thead>\n",
              "  <tbody>\n",
              "    <tr>\n",
              "      <th>0</th>\n",
              "      <td>films adapted from comic books have had plenty...</td>\n",
              "      <td>NEGATIVE</td>\n",
              "    </tr>\n",
              "    <tr>\n",
              "      <th>1</th>\n",
              "      <td>for starters , it was created by alan moore ( ...</td>\n",
              "      <td>POSITIVE</td>\n",
              "    </tr>\n",
              "    <tr>\n",
              "      <th>2</th>\n",
              "      <td>to say moore and campbell thoroughly researche...</td>\n",
              "      <td>POSITIVE</td>\n",
              "    </tr>\n",
              "    <tr>\n",
              "      <th>3</th>\n",
              "      <td>the book ( or \" graphic novel , \" if you will ...</td>\n",
              "      <td>NEGATIVE</td>\n",
              "    </tr>\n",
              "    <tr>\n",
              "      <th>4</th>\n",
              "      <td>in other words , don't dismiss this film becau...</td>\n",
              "      <td>POSITIVE</td>\n",
              "    </tr>\n",
              "  </tbody>\n",
              "</table>\n",
              "</div>\n",
              "    <div class=\"colab-df-buttons\">\n",
              "\n",
              "  <div class=\"colab-df-container\">\n",
              "    <button class=\"colab-df-convert\" onclick=\"convertToInteractive('df-7d789e18-07dc-4c52-827f-411bf255b2cb')\"\n",
              "            title=\"Convert this dataframe to an interactive table.\"\n",
              "            style=\"display:none;\">\n",
              "\n",
              "  <svg xmlns=\"http://www.w3.org/2000/svg\" height=\"24px\" viewBox=\"0 -960 960 960\">\n",
              "    <path d=\"M120-120v-720h720v720H120Zm60-500h600v-160H180v160Zm220 220h160v-160H400v160Zm0 220h160v-160H400v160ZM180-400h160v-160H180v160Zm440 0h160v-160H620v160ZM180-180h160v-160H180v160Zm440 0h160v-160H620v160Z\"/>\n",
              "  </svg>\n",
              "    </button>\n",
              "\n",
              "  <style>\n",
              "    .colab-df-container {\n",
              "      display:flex;\n",
              "      gap: 12px;\n",
              "    }\n",
              "\n",
              "    .colab-df-convert {\n",
              "      background-color: #E8F0FE;\n",
              "      border: none;\n",
              "      border-radius: 50%;\n",
              "      cursor: pointer;\n",
              "      display: none;\n",
              "      fill: #1967D2;\n",
              "      height: 32px;\n",
              "      padding: 0 0 0 0;\n",
              "      width: 32px;\n",
              "    }\n",
              "\n",
              "    .colab-df-convert:hover {\n",
              "      background-color: #E2EBFA;\n",
              "      box-shadow: 0px 1px 2px rgba(60, 64, 67, 0.3), 0px 1px 3px 1px rgba(60, 64, 67, 0.15);\n",
              "      fill: #174EA6;\n",
              "    }\n",
              "\n",
              "    .colab-df-buttons div {\n",
              "      margin-bottom: 4px;\n",
              "    }\n",
              "\n",
              "    [theme=dark] .colab-df-convert {\n",
              "      background-color: #3B4455;\n",
              "      fill: #D2E3FC;\n",
              "    }\n",
              "\n",
              "    [theme=dark] .colab-df-convert:hover {\n",
              "      background-color: #434B5C;\n",
              "      box-shadow: 0px 1px 3px 1px rgba(0, 0, 0, 0.15);\n",
              "      filter: drop-shadow(0px 1px 2px rgba(0, 0, 0, 0.3));\n",
              "      fill: #FFFFFF;\n",
              "    }\n",
              "  </style>\n",
              "\n",
              "    <script>\n",
              "      const buttonEl =\n",
              "        document.querySelector('#df-7d789e18-07dc-4c52-827f-411bf255b2cb button.colab-df-convert');\n",
              "      buttonEl.style.display =\n",
              "        google.colab.kernel.accessAllowed ? 'block' : 'none';\n",
              "\n",
              "      async function convertToInteractive(key) {\n",
              "        const element = document.querySelector('#df-7d789e18-07dc-4c52-827f-411bf255b2cb');\n",
              "        const dataTable =\n",
              "          await google.colab.kernel.invokeFunction('convertToInteractive',\n",
              "                                                    [key], {});\n",
              "        if (!dataTable) return;\n",
              "\n",
              "        const docLinkHtml = 'Like what you see? Visit the ' +\n",
              "          '<a target=\"_blank\" href=https://colab.research.google.com/notebooks/data_table.ipynb>data table notebook</a>'\n",
              "          + ' to learn more about interactive tables.';\n",
              "        element.innerHTML = '';\n",
              "        dataTable['output_type'] = 'display_data';\n",
              "        await google.colab.output.renderOutput(dataTable, element);\n",
              "        const docLink = document.createElement('div');\n",
              "        docLink.innerHTML = docLinkHtml;\n",
              "        element.appendChild(docLink);\n",
              "      }\n",
              "    </script>\n",
              "  </div>\n",
              "\n",
              "\n",
              "<div id=\"df-c53c400a-4c6c-4d1d-8aa9-a17f96c0e255\">\n",
              "  <button class=\"colab-df-quickchart\" onclick=\"quickchart('df-c53c400a-4c6c-4d1d-8aa9-a17f96c0e255')\"\n",
              "            title=\"Suggest charts\"\n",
              "            style=\"display:none;\">\n",
              "\n",
              "<svg xmlns=\"http://www.w3.org/2000/svg\" height=\"24px\"viewBox=\"0 0 24 24\"\n",
              "     width=\"24px\">\n",
              "    <g>\n",
              "        <path d=\"M19 3H5c-1.1 0-2 .9-2 2v14c0 1.1.9 2 2 2h14c1.1 0 2-.9 2-2V5c0-1.1-.9-2-2-2zM9 17H7v-7h2v7zm4 0h-2V7h2v10zm4 0h-2v-4h2v4z\"/>\n",
              "    </g>\n",
              "</svg>\n",
              "  </button>\n",
              "\n",
              "<style>\n",
              "  .colab-df-quickchart {\n",
              "      --bg-color: #E8F0FE;\n",
              "      --fill-color: #1967D2;\n",
              "      --hover-bg-color: #E2EBFA;\n",
              "      --hover-fill-color: #174EA6;\n",
              "      --disabled-fill-color: #AAA;\n",
              "      --disabled-bg-color: #DDD;\n",
              "  }\n",
              "\n",
              "  [theme=dark] .colab-df-quickchart {\n",
              "      --bg-color: #3B4455;\n",
              "      --fill-color: #D2E3FC;\n",
              "      --hover-bg-color: #434B5C;\n",
              "      --hover-fill-color: #FFFFFF;\n",
              "      --disabled-bg-color: #3B4455;\n",
              "      --disabled-fill-color: #666;\n",
              "  }\n",
              "\n",
              "  .colab-df-quickchart {\n",
              "    background-color: var(--bg-color);\n",
              "    border: none;\n",
              "    border-radius: 50%;\n",
              "    cursor: pointer;\n",
              "    display: none;\n",
              "    fill: var(--fill-color);\n",
              "    height: 32px;\n",
              "    padding: 0;\n",
              "    width: 32px;\n",
              "  }\n",
              "\n",
              "  .colab-df-quickchart:hover {\n",
              "    background-color: var(--hover-bg-color);\n",
              "    box-shadow: 0 1px 2px rgba(60, 64, 67, 0.3), 0 1px 3px 1px rgba(60, 64, 67, 0.15);\n",
              "    fill: var(--button-hover-fill-color);\n",
              "  }\n",
              "\n",
              "  .colab-df-quickchart-complete:disabled,\n",
              "  .colab-df-quickchart-complete:disabled:hover {\n",
              "    background-color: var(--disabled-bg-color);\n",
              "    fill: var(--disabled-fill-color);\n",
              "    box-shadow: none;\n",
              "  }\n",
              "\n",
              "  .colab-df-spinner {\n",
              "    border: 2px solid var(--fill-color);\n",
              "    border-color: transparent;\n",
              "    border-bottom-color: var(--fill-color);\n",
              "    animation:\n",
              "      spin 1s steps(1) infinite;\n",
              "  }\n",
              "\n",
              "  @keyframes spin {\n",
              "    0% {\n",
              "      border-color: transparent;\n",
              "      border-bottom-color: var(--fill-color);\n",
              "      border-left-color: var(--fill-color);\n",
              "    }\n",
              "    20% {\n",
              "      border-color: transparent;\n",
              "      border-left-color: var(--fill-color);\n",
              "      border-top-color: var(--fill-color);\n",
              "    }\n",
              "    30% {\n",
              "      border-color: transparent;\n",
              "      border-left-color: var(--fill-color);\n",
              "      border-top-color: var(--fill-color);\n",
              "      border-right-color: var(--fill-color);\n",
              "    }\n",
              "    40% {\n",
              "      border-color: transparent;\n",
              "      border-right-color: var(--fill-color);\n",
              "      border-top-color: var(--fill-color);\n",
              "    }\n",
              "    60% {\n",
              "      border-color: transparent;\n",
              "      border-right-color: var(--fill-color);\n",
              "    }\n",
              "    80% {\n",
              "      border-color: transparent;\n",
              "      border-right-color: var(--fill-color);\n",
              "      border-bottom-color: var(--fill-color);\n",
              "    }\n",
              "    90% {\n",
              "      border-color: transparent;\n",
              "      border-bottom-color: var(--fill-color);\n",
              "    }\n",
              "  }\n",
              "</style>\n",
              "\n",
              "  <script>\n",
              "    async function quickchart(key) {\n",
              "      const quickchartButtonEl =\n",
              "        document.querySelector('#' + key + ' button');\n",
              "      quickchartButtonEl.disabled = true;  // To prevent multiple clicks.\n",
              "      quickchartButtonEl.classList.add('colab-df-spinner');\n",
              "      try {\n",
              "        const charts = await google.colab.kernel.invokeFunction(\n",
              "            'suggestCharts', [key], {});\n",
              "      } catch (error) {\n",
              "        console.error('Error during call to suggestCharts:', error);\n",
              "      }\n",
              "      quickchartButtonEl.classList.remove('colab-df-spinner');\n",
              "      quickchartButtonEl.classList.add('colab-df-quickchart-complete');\n",
              "    }\n",
              "    (() => {\n",
              "      let quickchartButtonEl =\n",
              "        document.querySelector('#df-c53c400a-4c6c-4d1d-8aa9-a17f96c0e255 button');\n",
              "      quickchartButtonEl.style.display =\n",
              "        google.colab.kernel.accessAllowed ? 'block' : 'none';\n",
              "    })();\n",
              "  </script>\n",
              "</div>\n",
              "    </div>\n",
              "  </div>\n"
            ],
            "application/vnd.google.colaboratory.intrinsic+json": {
              "type": "dataframe",
              "summary": "{\n  \"name\": \"d[[text_column, 'sentiment']]\",\n  \"rows\": 5,\n  \"fields\": [\n    {\n      \"column\": \"text\",\n      \"properties\": {\n        \"dtype\": \"string\",\n        \"num_unique_values\": 5,\n        \"samples\": [\n          \"for starters , it was created by alan moore ( and eddie campbell ) , who brought the medium to a whole new level in the mid '80s with a 12-part series called the watchmen .\",\n          \"in other words , don't dismiss this film because of its source .\",\n          \"to say moore and campbell thoroughly researched the subject of jack the ripper would be like saying michael jackson is starting to look a little odd .\"\n        ],\n        \"semantic_type\": \"\",\n        \"description\": \"\"\n      }\n    },\n    {\n      \"column\": \"sentiment\",\n      \"properties\": {\n        \"dtype\": \"category\",\n        \"num_unique_values\": 2,\n        \"samples\": [\n          \"POSITIVE\",\n          \"NEGATIVE\"\n        ],\n        \"semantic_type\": \"\",\n        \"description\": \"\"\n      }\n    }\n  ]\n}"
            }
          },
          "metadata": {},
          "execution_count": 38
        }
      ]
    },
    {
      "cell_type": "code",
      "source": [
        "# save results to csv\n",
        "output_filename = 'Sentiment_Predictions.csv'  # name your output file\n",
        "d.to_csv(output_filename, index=False)"
      ],
      "metadata": {
        "id": "kq6-nxYOoagd"
      },
      "execution_count": 39,
      "outputs": []
    },
    {
      "cell_type": "code",
      "source": [
        "# download output file\n",
        "files.download(output_filename)"
      ],
      "metadata": {
        "id": "fp7l_J1oodfL",
        "outputId": "996021fd-1bf6-4f98-ca07-b2251a8c226e",
        "colab": {
          "base_uri": "https://localhost:8080/",
          "height": 17
        }
      },
      "execution_count": 42,
      "outputs": [
        {
          "output_type": "display_data",
          "data": {
            "text/plain": [
              "<IPython.core.display.Javascript object>"
            ],
            "application/javascript": [
              "\n",
              "    async function download(id, filename, size) {\n",
              "      if (!google.colab.kernel.accessAllowed) {\n",
              "        return;\n",
              "      }\n",
              "      const div = document.createElement('div');\n",
              "      const label = document.createElement('label');\n",
              "      label.textContent = `Downloading \"${filename}\": `;\n",
              "      div.appendChild(label);\n",
              "      const progress = document.createElement('progress');\n",
              "      progress.max = size;\n",
              "      div.appendChild(progress);\n",
              "      document.body.appendChild(div);\n",
              "\n",
              "      const buffers = [];\n",
              "      let downloaded = 0;\n",
              "\n",
              "      const channel = await google.colab.kernel.comms.open(id);\n",
              "      // Send a message to notify the kernel that we're ready.\n",
              "      channel.send({})\n",
              "\n",
              "      for await (const message of channel.messages) {\n",
              "        // Send a message to notify the kernel that we're ready.\n",
              "        channel.send({})\n",
              "        if (message.buffers) {\n",
              "          for (const buffer of message.buffers) {\n",
              "            buffers.push(buffer);\n",
              "            downloaded += buffer.byteLength;\n",
              "            progress.value = downloaded;\n",
              "          }\n",
              "        }\n",
              "      }\n",
              "      const blob = new Blob(buffers, {type: 'application/binary'});\n",
              "      const a = document.createElement('a');\n",
              "      a.href = window.URL.createObjectURL(blob);\n",
              "      a.download = filename;\n",
              "      div.appendChild(a);\n",
              "      a.click();\n",
              "      div.remove();\n",
              "    }\n",
              "  "
            ]
          },
          "metadata": {}
        },
        {
          "output_type": "display_data",
          "data": {
            "text/plain": [
              "<IPython.core.display.Javascript object>"
            ],
            "application/javascript": [
              "download(\"download_3e77ec30-ee03-4a6f-81b7-b99ae79304f9\", \"Sentiment_Predictions.csv\", 16001)"
            ]
          },
          "metadata": {}
        }
      ]
    },
    {
      "cell_type": "markdown",
      "source": [
        "*Run a fine-tuned language model for emotion extraction.*"
      ],
      "metadata": {
        "id": "6liv2s9FzWL0"
      }
    },
    {
      "cell_type": "code",
      "source": [
        "# import model\n",
        "get_emotions = pipeline(\"text-classification\", model=\"j-hartmann/emotion-english-distilroberta-base\", return_all_scores=True, device = 0)"
      ],
      "metadata": {
        "id": "xPcqe92PzJTo"
      },
      "execution_count": null,
      "outputs": []
    },
    {
      "cell_type": "code",
      "source": [
        "# predict emotions\n",
        "get_emotions(\"This was by far the best service experience I've ever made!\")"
      ],
      "metadata": {
        "colab": {
          "base_uri": "https://localhost:8080/"
        },
        "id": "dPJbFPw9zRzP",
        "outputId": "ee263e43-e0c4-4ef7-f758-1f81ef0b912f"
      },
      "execution_count": null,
      "outputs": [
        {
          "output_type": "execute_result",
          "data": {
            "text/plain": [
              "[[{'label': 'anger', 'score': 0.005697187967598438},\n",
              "  {'label': 'disgust', 'score': 0.005230925511568785},\n",
              "  {'label': 'fear', 'score': 0.0024537532590329647},\n",
              "  {'label': 'joy', 'score': 0.7304487228393555},\n",
              "  {'label': 'neutral', 'score': 0.09406807273626328},\n",
              "  {'label': 'sadness', 'score': 0.002163215074688196},\n",
              "  {'label': 'surprise', 'score': 0.15993811190128326}]]"
            ]
          },
          "metadata": {},
          "execution_count": 5
        }
      ]
    },
    {
      "cell_type": "markdown",
      "source": [
        "*Run Microsoft's Phi-3-mini for zero-shot aspect-based sentiment analysis.*"
      ],
      "metadata": {
        "id": "k2Y6TbycbrIb"
      }
    },
    {
      "cell_type": "code",
      "source": [
        "# check gpu\n",
        "!nvidia-smi"
      ],
      "metadata": {
        "colab": {
          "base_uri": "https://localhost:8080/"
        },
        "id": "K3vSSt5J2jcE",
        "outputId": "cbd73523-7d7f-45fe-bf09-724edb8961cf"
      },
      "execution_count": null,
      "outputs": [
        {
          "output_type": "stream",
          "name": "stdout",
          "text": [
            "Tue Apr 23 12:07:18 2024       \n",
            "+---------------------------------------------------------------------------------------+\n",
            "| NVIDIA-SMI 535.104.05             Driver Version: 535.104.05   CUDA Version: 12.2     |\n",
            "|-----------------------------------------+----------------------+----------------------+\n",
            "| GPU  Name                 Persistence-M | Bus-Id        Disp.A | Volatile Uncorr. ECC |\n",
            "| Fan  Temp   Perf          Pwr:Usage/Cap |         Memory-Usage | GPU-Util  Compute M. |\n",
            "|                                         |                      |               MIG M. |\n",
            "|=========================================+======================+======================|\n",
            "|   0  Tesla T4                       Off | 00000000:00:04.0 Off |                    0 |\n",
            "| N/A   46C    P0              26W /  70W |   4815MiB / 15360MiB |      0%      Default |\n",
            "|                                         |                      |                  N/A |\n",
            "+-----------------------------------------+----------------------+----------------------+\n",
            "                                                                                         \n",
            "+---------------------------------------------------------------------------------------+\n",
            "| Processes:                                                                            |\n",
            "|  GPU   GI   CI        PID   Type   Process name                            GPU Memory |\n",
            "|        ID   ID                                                             Usage      |\n",
            "|=======================================================================================|\n",
            "+---------------------------------------------------------------------------------------+\n"
          ]
        }
      ]
    },
    {
      "cell_type": "code",
      "source": [
        "# install libraries\n",
        "!pip install transformers accelerate bitsandbytes"
      ],
      "metadata": {
        "id": "t_70wvDBabgZ"
      },
      "execution_count": null,
      "outputs": []
    },
    {
      "cell_type": "code",
      "source": [
        "# load libraries\n",
        "import torch\n",
        "from transformers import AutoModelForCausalLM, AutoTokenizer, pipeline"
      ],
      "metadata": {
        "id": "9nF7Vg2glwSH"
      },
      "execution_count": null,
      "outputs": []
    },
    {
      "cell_type": "code",
      "source": [
        "# load model\n",
        "torch.random.manual_seed(0)\n",
        "\n",
        "model = AutoModelForCausalLM.from_pretrained(\n",
        "    \"microsoft/Phi-3-mini-128k-instruct\",\n",
        "    device_map=\"cuda\",\n",
        "    torch_dtype=\"auto\",\n",
        "    trust_remote_code=True,\n",
        ")\n",
        "tokenizer = AutoTokenizer.from_pretrained(\"microsoft/Phi-3-mini-128k-instruct\")\n",
        "\n",
        "pipe = pipeline(\n",
        "    \"text-generation\",\n",
        "    model=model,\n",
        "    tokenizer=tokenizer,\n",
        ")\n",
        "\n",
        "generation_args = {\n",
        "    \"max_new_tokens\": 500,\n",
        "    \"return_full_text\": False,\n",
        "    \"temperature\": 0.0,\n",
        "    \"do_sample\": False,\n",
        "}"
      ],
      "metadata": {
        "id": "upvXUFohnxY_"
      },
      "execution_count": null,
      "outputs": []
    },
    {
      "cell_type": "code",
      "source": [
        "# predict sentiment\n",
        "messages = [\n",
        "    {\"role\": \"system\", \"content\": \"You are a helpful digital assistant. Please provide safe, ethical and accurate information to the user.\"},\n",
        "    {\"role\": \"user\", \"content\": \"Your task is to predict the sentiment of the following sentence: 'I'm disappointed by the service quality but pleasantly surprised by the price.'. Return the sentiment (positive, negative, neutral, or mixed) and the respective aspect of the sentiment in JSON format. Report the sentiment for each aspect separately.\"},\n",
        "]\n",
        "\n",
        "output = pipe(messages, **generation_args)\n",
        "print(output[0]['generated_text'])"
      ],
      "metadata": {
        "colab": {
          "base_uri": "https://localhost:8080/"
        },
        "id": "MeXU1t27nF8s",
        "outputId": "b9a9be13-d521-415c-b509-9378428ae9e6"
      },
      "execution_count": null,
      "outputs": [
        {
          "output_type": "stream",
          "name": "stdout",
          "text": [
            " {\n",
            "  \"overall_sentiment\": \"mixed\",\n",
            "  \"aspects\": {\n",
            "    \"service_quality\": {\n",
            "      \"sentiment\": \"negative\",\n",
            "      \"reason\": \"disappointed\"\n",
            "    },\n",
            "    \"price\": {\n",
            "      \"sentiment\": \"positive\",\n",
            "      \"reason\": \"pleasantly surprised\"\n",
            "    }\n",
            "  }\n",
            "}\n"
          ]
        }
      ]
    },
    {
      "cell_type": "markdown",
      "source": [
        "**References and Resources:**\n",
        "* https://github.com/cjhutto/vaderSentiment\n",
        "* https://github.com/lda-project/lda\n",
        "* https://mlarchive.com/machine-learning/sentiment-analysis-with-random-forest/\n",
        "* https://huggingface.co/siebert/sentiment-roberta-large-english\n",
        "* https://huggingface.co/j-hartmann/emotion-english-distilroberta-base\n",
        "* https://huggingface.co/microsoft/Phi-3-mini-128k-instruct\n",
        "* Krugmann, J.O., Hartmann, J. Sentiment Analysis in the Age of Generative AI. *Customer Needs and Solutions* 11, 3 (2024). https://doi.org/10.1007/s40547-024-00143-4.\n"
      ],
      "metadata": {
        "id": "FqvTATYpcbZM"
      }
    }
  ]
}